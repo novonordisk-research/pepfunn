{
 "cells": [
  {
   "cell_type": "markdown",
   "id": "0fefb48c-7cfd-43c5-81bd-6d1b26f8ea60",
   "metadata": {},
   "source": [
    "# Creation of libraries based on pattern, random and scanning conditions"
   ]
  },
  {
   "cell_type": "markdown",
   "id": "12c168dd-094c-4239-bcb5-08c11bfa1fe1",
   "metadata": {},
   "source": [
    "In this tutorial, we will explore a set of functionalities to generate peptide libraries depending on the amino acid content. Some of the functions create library from zero based on patterns or by random exploration. Other can include seeds and add some rules to propose analogs. A set of examples are provided with the main scenarios"
   ]
  },
  {
   "cell_type": "markdown",
   "id": "81f33b70-0a1e-4cbe-a3d4-1e85b79cb377",
   "metadata": {},
   "source": [
    "### 1. Installation"
   ]
  },
  {
   "cell_type": "markdown",
   "id": "abdf4130-7a14-4d86-aa97-49d25629780d",
   "metadata": {},
   "source": [
    "Before starting, the pepfunn package can be installed as follows:"
   ]
  },
  {
   "cell_type": "code",
   "execution_count": null,
   "id": "6f178c79-aa2a-4b1a-9fb3-b7aed2c51c82",
   "metadata": {},
   "outputs": [],
   "source": [
    "!pip install pepfunn"
   ]
  },
  {
   "cell_type": "markdown",
   "id": "e7fc371a-26f9-4da8-8ffe-5357f3b4be7d",
   "metadata": {},
   "source": [
    "Another way is to download the gihub code and running locally in the same folder: `pip install -e .`"
   ]
  },
  {
   "cell_type": "markdown",
   "id": "d520d1a1-d8c7-440c-8f33-d6d49c2f902c",
   "metadata": {},
   "source": [
    "### 2. Library generation using patterns"
   ]
  },
  {
   "cell_type": "markdown",
   "id": "80237b2b-09fd-4a5e-bfed-4e709e53f8b3",
   "metadata": {},
   "source": [
    "One way to generate libraries is by providing a pattern where random amino acids can be located in the **X** positions, and the others will remain fixed. For that purpose we import first the Library class from pepfunn:"
   ]
  },
  {
   "cell_type": "code",
   "execution_count": 1,
   "id": "aafa993e-75b2-490a-8fad-99cc3519e97c",
   "metadata": {},
   "outputs": [],
   "source": [
    "from pepfunn.library import Library"
   ]
  },
  {
   "cell_type": "markdown",
   "id": "6683ca14-c4f1-4dd6-8b30-5e5ec8bad2b8",
   "metadata": {},
   "source": [
    "Then we create an object that will contain the generate population. The function has the option to print progresively the number of sequences added to the library, but for practical purposes the variable is turned off:"
   ]
  },
  {
   "cell_type": "code",
   "execution_count": 2,
   "id": "1676553f-3bcf-4267-89ae-d93dd91d46f5",
   "metadata": {},
   "outputs": [],
   "source": [
    "libtest=Library(population_size=100, mode='exploration', pattern='XCXXXCX', add_phys_chem=True, mw_neigh=4, verbose=False)"
   ]
  },
  {
   "cell_type": "markdown",
   "id": "af84d7ca-b509-4d71-83c8-8f4981813e03",
   "metadata": {},
   "source": [
    "The main parameters used in the previous example are:\n",
    "\n",
    "- **population_size:** Final number of molecules required in the library.\n",
    "- **mode:** There are two modes available: 'exploration' and 'scanning'. For designing random sequences we should select the 'exploration' mode.\n",
    "- **pattern:** String that will contain the scaffold we require for the library. In the example we are using a cyclic peptide scaffold where only the cysteines are conserved.\n",
    "- **add_phys_chem:** Flag to add some filters to select sequences with lower solubility and synthesis liabilities.\n",
    "- **mw_neigh:** Maximum number of neighbor sequences having molecular weights within a 0.2 threshold. This is done to facilitate mass spec deconvolution.\n",
    "- **verbose:** Flag to print or not the number of sequence included in the population.\n",
    "\n",
    "After generating the library, we can check the first 10 elements and verify that the two cysteines are conserved according to the pattern:"
   ]
  },
  {
   "cell_type": "code",
   "execution_count": 11,
   "id": "fa7f1409-4c0f-405a-a8fc-18364f2930ae",
   "metadata": {},
   "outputs": [
    {
     "data": {
      "text/plain": [
       "['WCMKTCY',\n",
       " 'TCKLPCW',\n",
       " 'PCEAECW',\n",
       " 'MCMPDCA',\n",
       " 'WCHIDCS',\n",
       " 'TCMMECI',\n",
       " 'VCAKYCI',\n",
       " 'FCHPVCF',\n",
       " 'PCMKDCI',\n",
       " 'ICKNYCP']"
      ]
     },
     "execution_count": 11,
     "metadata": {},
     "output_type": "execute_result"
    }
   ],
   "source": [
    "libtest.population[0:10]"
   ]
  },
  {
   "cell_type": "markdown",
   "id": "8d926751-c460-4abb-9fe4-83f6b1071696",
   "metadata": {},
   "source": [
    "### 3. Generation of random libraries of different sizes"
   ]
  },
  {
   "cell_type": "markdown",
   "id": "83a510be-b28d-4b80-8871-3cced9fe2c56",
   "metadata": {},
   "source": [
    "Another case scenario is when we require to design random peptides of different sizes. Here we conserve the same parameters from the previous case, but add two more to play with length range of the peptides.\n",
    "\n",
    "- **min_pep_size:** Minimum size of the peptides to be considered in the library.\n",
    "- **max_pep_size:** Maximum size of the peptides to be considered in the library.\n",
    "\n",
    "The following is an example generating peptides from 10 to 20 amino acids:"
   ]
  },
  {
   "cell_type": "code",
   "execution_count": 2,
   "id": "159ba6f6-5c1f-411b-9ea2-383b5b2b6639",
   "metadata": {},
   "outputs": [],
   "source": [
    "libtest2=Library(population_size=100, mode='exploration', add_phys_chem=True, mw_neigh=4, min_pep_size=10, max_pep_size=20, verbose=False)"
   ]
  },
  {
   "cell_type": "markdown",
   "id": "051fd4a2-bbb3-418d-90e6-66978ed3e282",
   "metadata": {},
   "source": [
    "We can plot the distribution of the sizes among the 100 sequences:"
   ]
  },
  {
   "cell_type": "code",
   "execution_count": 4,
   "id": "1fe3cdd3-6e46-4adb-be8a-4cf0f727e718",
   "metadata": {},
   "outputs": [
    {
     "data": {
      "image/png": "[encoded data removed]",
      "text/plain": [
       "<Figure size 640x480 with 1 Axes>"
      ]
     },
     "metadata": {},
     "output_type": "display_data"
    }
   ],
   "source": [
    "import matplotlib.pyplot as plt\n",
    "\n",
    "# Get the length of each peptide in the library\n",
    "lengths = [len(s) for s in libtest2.population]\n",
    "\n",
    "# Create a histogram of the lengths\n",
    "plt.hist(lengths, bins=range(min(lengths), max(lengths) + 2, 1), edgecolor='black', linewidth=1.2)\n",
    "plt.xlabel('Peptide size')\n",
    "plt.ylabel('Frequency')\n",
    "\n",
    "plt.show()"
   ]
  },
  {
   "cell_type": "markdown",
   "id": "978465ed-8606-4ca1-8e69-8a2d278ab060",
   "metadata": {},
   "source": [
    "### 4. Generate a library using a seed (sequence template)"
   ]
  },
  {
   "cell_type": "markdown",
   "id": "ed525987-0180-497b-bdc8-015a2f5f4e2c",
   "metadata": {},
   "source": [
    "For scanning purposes, we can provide seeds (sequence templates) to modificy certain positions by specific residues or randomly. Some flags can be activated to include or not residue scanning in the library, as well as generate sequences from the generated ones. This is an example:"
   ]
  },
  {
   "cell_type": "code",
   "execution_count": 5,
   "id": "bec50da5-44aa-4733-9b41-81a2dd994cf1",
   "metadata": {},
   "outputs": [],
   "source": [
    "libtest3=Library(population_size=100, mode='scanning', mode_scan='all', seeds=['FNCREWCWN'], pairs=[(2,'A'),(3,'L'),(5,'R'),(7,'M')], add_scan=False, positions=[1,4,6,8], from_child=True, verbose=False)"
   ]
  },
  {
   "cell_type": "markdown",
   "id": "ca1e06f8-240a-4628-b59a-ce86d9ec4b15",
   "metadata": {},
   "source": [
    "Explanations about the new parameters here:\n",
    "\n",
    "- **mode_scan:** Mode to decide which kind of information use to explore the analogs. This can be random (using positions as input), pairs (using specific changes), or all (using both pairs and random)\n",
    "- **add_scan:** Flag to add specific residue scans to the seeds. It can be any of the natural residues.\n",
    "- **pairs:** List with a set of tuples containing at first position the residue that will be modified, and in the other positions the amino acids that are allowed to be used in the mutations.\n",
    "- **positions:** List with the numbers of the positions that can ve replace by any other residue.\n",
    "- **from_child:** Flag to use offspring sequences to generate new ones.\n",
    "\n",
    "The method can be tailored with additional options, like allowing the replacement of amino acids by those with similar phys-chem properties using the `add_prop_analog` flag. This is the list of the first 10 analogs:"
   ]
  },
  {
   "cell_type": "code",
   "execution_count": 6,
   "id": "fefeb795-c40f-4ba7-8e06-330b17ab6452",
   "metadata": {},
   "outputs": [
    {
     "data": {
      "text/plain": [
       "['FNCREWCVN',\n",
       " 'FNCREWMVN',\n",
       " 'FNCREWMWN',\n",
       " 'FNCREWMPN',\n",
       " 'FNCREHMVN',\n",
       " 'FNLREWMWN',\n",
       " 'FNLRRWMWN',\n",
       " 'FNCREVMWN',\n",
       " 'FACREWMPN',\n",
       " 'FNCREVMPN']"
      ]
     },
     "execution_count": 6,
     "metadata": {},
     "output_type": "execute_result"
    }
   ],
   "source": [
    "libtest3.population[0:10]"
   ]
  },
  {
   "cell_type": "markdown",
   "id": "f2f34f67-cee6-4dfd-92f7-b69355937bab",
   "metadata": {},
   "source": [
    "### 5. Using seeds and multiple changes at the same time"
   ]
  },
  {
   "cell_type": "markdown",
   "id": "fb6ce43b-749c-4667-8504-62c116be43e6",
   "metadata": {},
   "source": [
    "Finally, we can allow the method to generate libraries with multiple seeds and doing randomly more than one single modification. Similar to the previous example, these are some options we can add to activate this modality:"
   ]
  },
  {
   "cell_type": "code",
   "execution_count": 7,
   "id": "a344c85d-3504-488f-ab62-0ad6cbfb3f4e",
   "metadata": {},
   "outputs": [],
   "source": [
    "libtest4=Library(population_size=100, mode='scanning', mode_scan='all', seeds=['FNCREWCWN', 'NPVVHFFKNIVTP'], pairs=[(2,'A'),(3,'L'),(5,'R'),(7,'M')], positions=[2,3,5,7], single_mod=False, nb_number=3, mw_neigh=4, verbose=False)"
   ]
  },
  {
   "cell_type": "markdown",
   "id": "277ed646-77df-4196-bd84-1afea3d9d595",
   "metadata": {},
   "source": [
    "- **single_mod:** This flag should be turned to False in order to add more than one mutation at the time.\n",
    "- **nb_number:** Maximum number of substitutions per sequence.\n",
    "\n",
    "In this mode, it is possible to add modify a parameter called `no_priority` that receives a list with positions that can be modified in a lower frequency based on the `perc_limit` variable, which is 0.1 (10%) by default"
   ]
  },
  {
   "cell_type": "code",
   "execution_count": 9,
   "id": "202dd3b4-032e-45d9-9290-27d1d05a7962",
   "metadata": {},
   "outputs": [
    {
     "data": {
      "text/plain": [
       "['FNMRNWCWN',\n",
       " 'NMVVHFRKNIVTP',\n",
       " 'FNLRRWMWN',\n",
       " 'FACRRWMWN',\n",
       " 'NADVAFFKNIVTP',\n",
       " 'NHVVHFFKNIVTP',\n",
       " 'NGLVRFFKNIVTP',\n",
       " 'FRCREWAWN',\n",
       " 'NWVVHFFKNIVTP',\n",
       " 'NAVVRFFKNIVTP']"
      ]
     },
     "execution_count": 9,
     "metadata": {},
     "output_type": "execute_result"
    }
   ],
   "source": [
    "libtest4.population[0:10]"
   ]
  },
  {
   "cell_type": "markdown",
   "id": "79a95bbf-73c7-4101-9bb2-39ec93f3d6a3",
   "metadata": {},
   "source": [
    "For any questions, please contact: raoc@novonordisk.com"
   ]
  }
 ],
 "metadata": {
  "kernelspec": {
   "display_name": "Python 3 (ipykernel)",
   "language": "python",
   "name": "python3"
  },
  "language_info": {
   "codemirror_mode": {
    "name": "ipython",
    "version": 3
   },
   "file_extension": ".py",
   "mimetype": "text/x-python",
   "name": "python",
   "nbconvert_exporter": "python",
   "pygments_lexer": "ipython3",
   "version": "3.10.6"
  }
 },
 "nbformat": 4,
 "nbformat_minor": 5
}
