{
 "cells": [
  {
   "cell_type": "markdown",
   "id": "468c4d5f-a9dc-4417-9f74-184a0540e479",
   "metadata": {},
   "source": [
    "# Analyze sequence properties"
   ]
  },
  {
   "cell_type": "markdown",
   "id": "798277d4-e441-45ff-8638-5d9f89345da5",
   "metadata": {},
   "source": [
    "In this tutorial a set of examples are provided to run analysis with a single or multiple sequences"
   ]
  },
  {
   "cell_type": "markdown",
   "id": "5a0c5e2d-b8b1-4e32-a553-2f56e29b23e5",
   "metadata": {},
   "source": [
    "Before starting, the pepfunn package can be installed as follows:"
   ]
  },
  {
   "cell_type": "code",
   "execution_count": null,
   "id": "40b10e1e-4532-4f04-95cd-1397400c995e",
   "metadata": {},
   "outputs": [],
   "source": [
    "!pip install git+https://github.com/novonordisk-research/pepfunn.git"
   ]
  },
  {
   "cell_type": "markdown",
   "id": "a3eebe94-e4b5-470a-8b59-558f0e13e2b8",
   "metadata": {},
   "source": [
    "Another way is to download the gihub code and running locally in the same folder: `pip install -e .`"
   ]
  },
  {
   "cell_type": "markdown",
   "id": "9140f185-2754-4547-807d-9532330d25dd",
   "metadata": {},
   "source": [
    "### 1. Analysis using a single sequence"
   ]
  },
  {
   "cell_type": "markdown",
   "id": "36c76bd4-4905-4044-901d-99288bb239b5",
   "metadata": {},
   "source": [
    "For single peptides, it is possible to calculate a set of properties and liabilities to get more information about the molecules. For this it is only required to create a Sequence object:"
   ]
  },
  {
   "cell_type": "code",
   "execution_count": 1,
   "id": "87aedc5e-8e6f-446c-90c4-aae16c7256cb",
   "metadata": {},
   "outputs": [
    {
     "name": "stdout",
     "output_type": "stream",
     "text": [
      "Net charge: -0.09494328883037312\n",
      "Average hydrophobicity: -1.4399999999999997\n",
      "Isolectric point: 5.988010597229004\n",
      "Number of solubility rules failed: 1\n",
      "Number of synthesis rules failed: 1\n"
     ]
    }
   ],
   "source": [
    "# Import module\n",
    "from pepfunn.sequence import Sequence\n",
    "\n",
    "# Create object\n",
    "pep = Sequence('FNCREWCWN')\n",
    "\n",
    "# Properties from the sequence\n",
    "netCharge=pep.netCharge\n",
    "avgHydro=pep.avg_hydro\n",
    "isoPoint=pep.isoelectric_point\n",
    "\n",
    "# Empirical rules\n",
    "sol=pep.solubility_rules_failed\n",
    "syn=pep.synthesis_rules_failed\n",
    "\n",
    "print(f'Net charge: {netCharge}')\n",
    "print(f'Average hydrophobicity: {avgHydro}') \n",
    "print(f'Isolectric point: {isoPoint}') \n",
    "print(f'Number of solubility rules failed: {sol}') \n",
    "print(f'Number of synthesis rules failed: {syn}') "
   ]
  },
  {
   "cell_type": "markdown",
   "id": "eca6cbf6-6a2d-4abb-9c5a-96e34d689089",
   "metadata": {},
   "source": [
    "In the previous example it is possible to generate a report of what specific liabilities are found for the peptides. This is printed in the file `rules_report.txt` which can be used to understand the main issues of the sequences:\n",
    "\n",
    "- **report_liabilities:** Flag to generate the report with the included liabilities and which ones correspond to the peptide of interest"
   ]
  },
  {
   "cell_type": "code",
   "execution_count": 3,
   "id": "118d5e56-f805-40cd-aedc-b5b815b9370a",
   "metadata": {},
   "outputs": [
    {
     "name": "stdout",
     "output_type": "stream",
     "text": [
      "List of failed rules identified by number. The rule ids are explained at the end of the report.\n",
      "###########################################\n",
      "A total of 1 solubility rules failed. The rules id(s) are: 1.\n",
      "A total of 1 synthesis rules failed. The rules id(s) are: 10.\n",
      "###########################################\n",
      "\n",
      "The higher the number of rules violated, the lower the probability to be solubilized or synthesized experimentally (https://bioserv.rpbs.univ-paris-diderot.fr/services/SolyPep/).\n",
      "\n",
      "- List of solubility rules violations:\n",
      "1. Discard if the number of charged and/or of hydrophobic amino acids exceeds 45%\n",
      "2. Discard if the absolute total peptide charge at pH 7 is more than +1\n",
      "3. Discard if the number of glycine or proline is more than one in the sequence\n",
      "4. Discard if the first or the last amino acid is charged\n",
      "5. Discard if any amino acid represents more than 25% of the total sequence\n",
      "\n",
      "- List of synthesis rules violations:\n",
      "6. Discard if 2 prolines are consecutive\n",
      "7. Discard if the motifs DG and DP are present in the sequence\n",
      "8. Discard if the sequences ends with N or Q residues\n",
      "9. Discard if there are charged residues every 5 amino acids\n",
      "10. Discard if there are oxidation-sensitive amino acids (M, C or W)\n"
     ]
    }
   ],
   "source": [
    "pep2 = Sequence('FNCREWCWN', report_liabilities=True)\n",
    "lines= [x.strip() for x in open('rules_report.txt')]\n",
    "for line in lines:\n",
    "    print(line)"
   ]
  },
  {
   "cell_type": "markdown",
   "id": "ebae6b2f-977c-423c-b26d-fd92cdde751d",
   "metadata": {},
   "source": [
    "As an input we can also use a BILN format, which will be converted to a FASTA format. For that we need to include the option `format='biln'` when the Sequence class is called. If non-natural amino acids are included, these are mapped to its closest natural analog"
   ]
  },
  {
   "cell_type": "code",
   "execution_count": 15,
   "id": "bc249ebf-49ac-4c15-afd1-16afe2bf0cf0",
   "metadata": {},
   "outputs": [
    {
     "name": "stdout",
     "output_type": "stream",
     "text": [
      "Net charge: 1.0845832916992237\n",
      "Average hydrophobicity: 0.8600000000000002\n",
      "Isolectric point: 9.756532478332517\n",
      "Number of solubility rules failed: 2\n",
      "Number of synthesis rules failed: 1\n"
     ]
    }
   ],
   "source": [
    "biln='N-Aib-H-F-R-Iva-L-A'\n",
    "\n",
    "# Create object\n",
    "pep = Sequence(biln, format='biln')\n",
    "\n",
    "# Properties from the sequence\n",
    "netCharge=pep.netCharge\n",
    "avgHydro=pep.avg_hydro\n",
    "isoPoint=pep.isoelectric_point\n",
    "\n",
    "# Empirical rules\n",
    "sol=pep.solubility_rules_failed\n",
    "syn=pep.synthesis_rules_failed\n",
    "\n",
    "print(f'Net charge: {netCharge}')\n",
    "print(f'Average hydrophobicity: {avgHydro}') \n",
    "print(f'Isolectric point: {isoPoint}') \n",
    "print(f'Number of solubility rules failed: {sol}') \n",
    "print(f'Number of synthesis rules failed: {syn}')"
   ]
  },
  {
   "cell_type": "markdown",
   "id": "f996c52a-47f5-4919-aa50-8390755085c2",
   "metadata": {},
   "source": [
    "### 2. Analysis using a library of sequences"
   ]
  },
  {
   "cell_type": "markdown",
   "id": "f1cc2d57-50da-4e1e-90d7-6666d187a4f2",
   "metadata": {},
   "source": [
    "In this example a library of peptides will be generated and a set of properties will be calculated per peptides to see the distribution of the average hydrophobicity. A random library of peptides with sizes between 10 and 20 residues will be created first using PepFuNN:"
   ]
  },
  {
   "cell_type": "code",
   "execution_count": 9,
   "id": "3095b2d9-4947-4dd6-bce2-2a9418edf2c6",
   "metadata": {},
   "outputs": [
    {
     "data": {
      "text/plain": [
       "100"
      ]
     },
     "execution_count": 9,
     "metadata": {},
     "output_type": "execute_result"
    }
   ],
   "source": [
    "from pepfunn.library import Library\n",
    "\n",
    "libtest=Library(population_size=100, mode='exploration', add_phys_chem=False, mw_neigh=4, min_pep_size=10, max_pep_size=20, verbose=False)\n",
    "lib_pep=libtest.population\n",
    "len(lib_pep)"
   ]
  },
  {
   "cell_type": "code",
   "execution_count": 12,
   "id": "6a2fc1dc-a7e6-48cf-9887-31a496849327",
   "metadata": {},
   "outputs": [
    {
     "data": {
      "image/png": "[encoded data removed]",
      "text/plain": [
       "<Figure size 640x480 with 1 Axes>"
      ]
     },
     "metadata": {},
     "output_type": "display_data"
    }
   ],
   "source": [
    "import matplotlib.pyplot as plt\n",
    "\n",
    "hydro=[]\n",
    "for pep in lib_pep:\n",
    "    seq = Sequence(pep)\n",
    "    hydro.append(seq.avg_hydro)\n",
    "\n",
    "# Create a histogram of the lengths\n",
    "plt.hist(hydro, bins=25, edgecolor='black', linewidth=1.2)\n",
    "plt.xlabel('Average hydrophobicity')\n",
    "plt.ylabel('Frequency')\n",
    "\n",
    "plt.show()    "
   ]
  },
  {
   "cell_type": "markdown",
   "id": "c923c0d8-3743-45cd-82ce-704f649f221c",
   "metadata": {},
   "source": [
    "For any questions, please contact: raoc@novonordisk.com"
   ]
  }
 ],
 "metadata": {
  "kernelspec": {
   "display_name": "Python 3 (ipykernel)",
   "language": "python",
   "name": "python3"
  },
  "language_info": {
   "codemirror_mode": {
    "name": "ipython",
    "version": 3
   },
   "file_extension": ".py",
   "mimetype": "text/x-python",
   "name": "python",
   "nbconvert_exporter": "python",
   "pygments_lexer": "ipython3",
   "version": "3.10.6"
  }
 },
 "nbformat": 4,
 "nbformat_minor": 5
}
