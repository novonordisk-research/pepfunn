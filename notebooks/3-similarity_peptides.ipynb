{
 "cells": [
  {
   "cell_type": "markdown",
   "id": "2a748ea3-15b3-4bd0-ad65-429ba5a8dd6b",
   "metadata": {},
   "source": [
    "# Detection of similar sequences"
   ]
  },
  {
   "cell_type": "markdown",
   "id": "d0383a3f-f5e8-4779-b1d8-f9df8294609c",
   "metadata": {},
   "source": [
    "For comparing sequences, PepFuNN provides a set of functionalities to match peptide having different sizes and even cases when the peptides contain non-natural amino acids. For the latest case there functions to use directly the SMILES format, or get access to a pre-generated similarity matrix based on the monomer dictionary provided within PepFuNN."
   ]
  },
  {
   "cell_type": "markdown",
   "id": "4fe468b4-9b5b-428a-8a6b-b44066c455fc",
   "metadata": {},
   "source": [
    "Before starting, the pepfunn package can be installed as follows:"
   ]
  },
  {
   "cell_type": "code",
   "execution_count": null,
   "id": "ac26a097-06ff-497f-9607-71019cf82b87",
   "metadata": {},
   "outputs": [],
   "source": [
    "!pip install --user pepfunn"
   ]
  },
  {
   "cell_type": "markdown",
   "id": "de4fbe6e-20b1-4c04-aeee-27501a8e1dfa",
   "metadata": {},
   "source": [
    "Another way is to download the gihub code and running locally in the same folder: `pip install -e .`"
   ]
  },
  {
   "cell_type": "markdown",
   "id": "a532ce29-1c52-46b8-b33a-c1941851e278",
   "metadata": {},
   "source": [
    "### 1. Comparing sequences with the same size"
   ]
  },
  {
   "cell_type": "markdown",
   "id": "bce57f0f-a55a-45d5-81d1-bbc27985f952",
   "metadata": {},
   "source": [
    "Initially we can compare two sequences having the same lenght using a basic Hamming distance, or scored based on a similarity matrix"
   ]
  },
  {
   "cell_type": "code",
   "execution_count": 1,
   "id": "515f763a-16ed-4652-96ea-9ade5ac4c22c",
   "metadata": {},
   "outputs": [],
   "source": [
    "from pepfunn.similarity import Alignment\n",
    "\n",
    "seq1='AFTGYW'\n",
    "seq2='AGTGYL'"
   ]
  },
  {
   "cell_type": "code",
   "execution_count": 2,
   "id": "5868b3a3-71f1-4fdf-90c7-590c0875ae9b",
   "metadata": {},
   "outputs": [
    {
     "name": "stdout",
     "output_type": "stream",
     "text": [
      "Similarity using a local matrix to score: 11.815126050420169\n",
      "Similarity using the Hamming distance: 4\n"
     ]
    }
   ],
   "source": [
    "score1 = Alignment.align_samelen_matrix(seq1, seq2)\n",
    "score2 = Alignment.align_samelen_local(seq1, seq2)\n",
    "\n",
    "print(f'Similarity using a local matrix to score: {score1}')\n",
    "print(f'Similarity using the Hamming distance: {score2}')"
   ]
  },
  {
   "cell_type": "markdown",
   "id": "a4b45f5c-b73f-424c-8724-d847f999c976",
   "metadata": {},
   "source": [
    "Let's do a similar example but with two more different sequences in terms of amino acid content:"
   ]
  },
  {
   "cell_type": "code",
   "execution_count": 3,
   "id": "ca652e7b-91a4-47b3-8d75-bcab4562b359",
   "metadata": {},
   "outputs": [
    {
     "name": "stdout",
     "output_type": "stream",
     "text": [
      "Similarity using a local matrix to score: 6.087468571256227\n",
      "Similarity using the Hamming distance: 6\n"
     ]
    }
   ],
   "source": [
    "seq1='NPVVHFFKNIVTPRTPPPSQ'\n",
    "seq2='AAAAAFFKNIVAAAAAAAAA'\n",
    "\n",
    "score1 = Alignment.align_samelen_matrix(seq1, seq2)\n",
    "score2 = Alignment.align_samelen_local(seq1, seq2)\n",
    "\n",
    "print(f'Similarity using a local matrix to score: {score1}')\n",
    "print(f'Similarity using the Hamming distance: {score2}')"
   ]
  },
  {
   "cell_type": "markdown",
   "id": "2bbbd40c-e681-4699-a951-8c4198dd27b9",
   "metadata": {},
   "source": [
    "Finally, the sequences can be compared using the SMILES instead of the sequences as follows:"
   ]
  },
  {
   "cell_type": "code",
   "execution_count": 9,
   "id": "becde509-2174-4ef7-9d2d-0862fe0e8dd9",
   "metadata": {},
   "outputs": [
    {
     "name": "stdout",
     "output_type": "stream",
     "text": [
      "Similarity using SMILES: 0.4652777777777778\n"
     ]
    }
   ],
   "source": [
    "seq1='AFTGYW'\n",
    "seq2='AGTGYL'\n",
    "\n",
    "score3 = Alignment.align_smiles(seq1, seq2)\n",
    "\n",
    "print(f'Similarity using SMILES: {score3}')"
   ]
  },
  {
   "cell_type": "markdown",
   "id": "0a7ff955-270c-4f4d-9138-627a027731d4",
   "metadata": {},
   "source": [
    "### 2. Comparing sequences with different size"
   ]
  },
  {
   "cell_type": "markdown",
   "id": "5a25eeb7-670c-4357-95ee-08789697aaf2",
   "metadata": {},
   "source": [
    "For peptides of different size it is possible to run the comparisons, and even include non-natural amino acids if they are available in the monomer dictionary. These are two examples:\n",
    "\n",
    "- **mode:** For the alignments there are two options: weighted (using similarity matrix) or unweighted based on Hamming distance"
   ]
  },
  {
   "cell_type": "code",
   "execution_count": 4,
   "id": "b10456df-cf2d-475d-8351-5265dbd0f48c",
   "metadata": {},
   "outputs": [
    {
     "name": "stdout",
     "output_type": "stream",
     "text": [
      "Score of the alignment: 7.0\n",
      "Aligned sequence 1: WW-----SEVNR--AEF\n",
      "Aligned sequence 2: --KTEEISEVN-IVAEF\n"
     ]
    }
   ],
   "source": [
    "seq1='WWSEVNRAEF'\n",
    "seq2='KTEEISEVNIVAEF'\n",
    "\n",
    "score, align1, align2 = Alignment.align_difflen_matrix(seq1, seq2, mode=\"unweighted\")\n",
    "print(f'Score of the alignment: {score}')\n",
    "print(f'Aligned sequence 1: {align1}')\n",
    "print(f'Aligned sequence 2: {align2}')"
   ]
  },
  {
   "cell_type": "markdown",
   "id": "6f40669f-655e-471f-8a50-d86d0d8bdde0",
   "metadata": {},
   "source": [
    "We can do something similar with two peptides in BILN format having non-natural amino acids and adding the similarity matrix to weight the alignment:"
   ]
  },
  {
   "cell_type": "code",
   "execution_count": 8,
   "id": "a89b6866-b1b8-4d5b-b869-7b05d54674df",
   "metadata": {},
   "outputs": [
    {
     "name": "stdout",
     "output_type": "stream",
     "text": [
      "Score of the alignment: 8.0\n"
     ]
    }
   ],
   "source": [
    "seq1='K-Aib-M-P'\n",
    "seq2='S-A-Aib-P'\n",
    "\n",
    "score, align1, align2 = Alignment.align_difflen_matrix(seq1, seq2, mode=\"weighted\")\n",
    "print(f'Score of the alignment: {score}')"
   ]
  },
  {
   "cell_type": "markdown",
   "id": "a0a595ad-386c-413a-b824-a7ccc735fe1a",
   "metadata": {},
   "source": [
    "### 3. Overall similarity no matter the size"
   ]
  },
  {
   "cell_type": "markdown",
   "id": "d7322927-9783-491c-99b4-2aeaa5d449a4",
   "metadata": {},
   "source": [
    "Finally, we can calculate the overall similarity no matter the length with a number between 0 and 1, which can be inferred as a percentage identity. The `mode` option can be used to provide context about the size of the peptide:"
   ]
  },
  {
   "cell_type": "code",
   "execution_count": 11,
   "id": "84d8b1ea-1648-4c66-92e7-e37030abc35d",
   "metadata": {},
   "outputs": [
    {
     "name": "stdout",
     "output_type": "stream",
     "text": [
      "Full similarity between AFTGYW and AGTGYL is: 0.49229691876750703\n",
      "Full similarity between NPVVHFFKNIVTPRTPPPSQ and AAAAAFFKNIVAAAAAAAAA is: 0.07609335714070284\n",
      "Full similarity between LLSHYTSY and LLSHYTSY is: 1.0\n",
      "Full similarity between W-W-S-E-V-N-R-A-E-F and K-T-E-E-I-S-E-V-N-I-V-A-E-F is: 0.5916079783099616\n",
      "Full similarity between K-Aib-M-P and S-A-Aib-P is: 0.5\n"
     ]
    }
   ],
   "source": [
    "sim1 = Alignment.similarity_pair('AFTGYW', 'AGTGYL', mode='same')\n",
    "sim2 = Alignment.similarity_pair('NPVVHFFKNIVTPRTPPPSQ', 'AAAAAFFKNIVAAAAAAAAA', mode='same')\n",
    "sim3 = Alignment.similarity_pair('LLSHYTSY', 'LLSHYTSY', mode='same')\n",
    "sim4 = Alignment.similarity_pair(\"W-W-S-E-V-N-R-A-E-F\", \"K-T-E-E-I-S-E-V-N-I-V-A-E-F\", mode='diff')\n",
    "sim5 = Alignment.similarity_pair(\"K-Aib-M-P\",\"S-A-Aib-P\", mode='diff')\n",
    "\n",
    "print(f'Full similarity between AFTGYW and AGTGYL is: {sim1}')\n",
    "print(f'Full similarity between NPVVHFFKNIVTPRTPPPSQ and AAAAAFFKNIVAAAAAAAAA is: {sim2}')\n",
    "print(f'Full similarity between LLSHYTSY and LLSHYTSY is: {sim3}')\n",
    "print(f'Full similarity between W-W-S-E-V-N-R-A-E-F and K-T-E-E-I-S-E-V-N-I-V-A-E-F is: {sim4}')\n",
    "print(f'Full similarity between K-Aib-M-P and S-A-Aib-P is: {sim5}')"
   ]
  },
  {
   "cell_type": "markdown",
   "id": "b32e8919-006d-40bd-8b6f-86383b3ab234",
   "metadata": {},
   "source": [
    "### 4. Monomer-based similarity"
   ]
  },
  {
   "cell_type": "markdown",
   "id": "80e5fa24-7c8d-4984-b791-d86388684de6",
   "metadata": {},
   "source": [
    "A new functionality in PepFuNN is to compare peptides based on the monomer content and their properties. In the publication we explain the monomer-based fingerprint where the peptide is transformed into a graph, and the nodes are treated as atoms in a Morgan Fingerprint methodology. This way we can compare peptide with complex topologies as soon as the properties are available in the monomer dictionary, which is included in the PepFuNN package. The following are two examples using natural and non-natural amino acids:"
   ]
  },
  {
   "cell_type": "code",
   "execution_count": 14,
   "id": "33515cc9-756e-4a36-9d2a-65e8f0f181fa",
   "metadata": {},
   "outputs": [],
   "source": [
    "from pepfunn.similarity import simMonFP"
   ]
  },
  {
   "cell_type": "markdown",
   "id": "6a7d439e-ea01-4c4e-879b-bef1c0eebdb2",
   "metadata": {},
   "source": [
    "The main option to configure the fingerprints are:\n",
    "\n",
    "- **radius:** Maximum number of nodes surrounding an amino acid to generate a bit in the fingerprint.\n",
    "- **nBits:** Number of bits the fingerprint will contain (i.e. 1024).\n",
    "- **add_freq:** Flag to take into account the repetiticn of the motif within the sequence. This will generate more specific fingerprints.\n"
   ]
  },
  {
   "cell_type": "code",
   "execution_count": 15,
   "id": "bb5d57d4-30da-4c0d-8fa2-66db78473c00",
   "metadata": {},
   "outputs": [
    {
     "name": "stdout",
     "output_type": "stream",
     "text": [
      "Monomer-based similarity is: 0.2037037037037037\n"
     ]
    }
   ],
   "source": [
    "seq1='NPVVHFFKNIVTPRTPPPSQ'\n",
    "seq2='AAAAAFFKNIVAAAAAAAAA'\n",
    "\n",
    "sim=simMonFP(seq1, seq2, radius=2, nBits=1024, add_freq=True)\n",
    "print(f'Monomer-based similarity is: {sim}')"
   ]
  },
  {
   "cell_type": "code",
   "execution_count": 16,
   "id": "3418380d-8b69-42ad-8483-c740f9394744",
   "metadata": {},
   "outputs": [
    {
     "name": "stdout",
     "output_type": "stream",
     "text": [
      "Monomer-based similarity is: 0.125\n"
     ]
    }
   ],
   "source": [
    "seq1='K-Aib-M-P'\n",
    "seq2='S-A-Aib-P'\n",
    "\n",
    "sim=simMonFP(seq1, seq2, radius=2, nBits=1024, add_freq=True)\n",
    "print(f'Monomer-based similarity is: {sim}')"
   ]
  },
  {
   "cell_type": "markdown",
   "id": "27deeff7-ee6b-44fc-a180-67bda0f770b9",
   "metadata": {},
   "source": [
    "### 5. Monomer-based descriptors"
   ]
  },
  {
   "cell_type": "markdown",
   "id": "cbc6c049-06bf-482f-92b8-a3273aa3a457",
   "metadata": {},
   "source": [
    "Finally, a function to generate autocorrelation descriptors for machine learning models is provided. The sequence should be in BILN format, and a dictionary with a set of amino acid-based descriptors will be generated. The monomers should be part of the monomer dataset provided in the code. For details please check the manuscript:"
   ]
  },
  {
   "cell_type": "code",
   "execution_count": 18,
   "id": "63f579c3-7af9-4568-a568-7c5629a4be94",
   "metadata": {},
   "outputs": [
    {
     "name": "stdout",
     "output_type": "stream",
     "text": [
      "Predicted AA-based descriptors: {'nrot-lag1': -0.20175438596491233, 'nrot-lag2': 0.059210526315789526, 'nrot-lag3': -0.8733552631578948, 'nrot-lag4': 0.05921052631578947, 'nrot-lag5': 0.1282894736842105, 'logp-lag1': 0.14621536728866413, 'logp-lag2': -0.3769784064899992, 'logp-lag3': -0.2190660764542613, 'logp-lag4': -0.7524979628713062, 'logp-lag5': -0.0016269255745366142, 'tpsa-lag1': 0.04386218549019564, 'tpsa-lag2': 0.026700387149926952, 'tpsa-lag3': -0.9840543967715248, 'tpsa-lag4': -0.30384299963295636, 'tpsa-lag5': -0.5206000880452041, 'mw-lag1': -0.43399083564883817, 'mw-lag2': -0.09377410766615871, 'mw-lag3': -0.4707166259042365, 'mw-lag4': 0.6020883342486392, 'mw-lag5': 0.21727062700987973}\n"
     ]
    }
   ],
   "source": [
    "from pepfunn.similarity import pepDescriptors\n",
    "\n",
    "desc=pepDescriptors(\"K-Aib-Iva-P-L-C-D\")\n",
    "descriptors=desc.moranCorrelation()\n",
    "\n",
    "print(f\"Predicted AA-based descriptors: {descriptors}\")"
   ]
  },
  {
   "cell_type": "markdown",
   "id": "70c66219-6b59-48ed-a46e-2b6e06f88cfc",
   "metadata": {},
   "source": [
    "For any questions, please contact: raoc@novonordisk.com"
   ]
  }
 ],
 "metadata": {
  "kernelspec": {
   "display_name": "Python 3 (ipykernel)",
   "language": "python",
   "name": "python3"
  },
  "language_info": {
   "codemirror_mode": {
    "name": "ipython",
    "version": 3
   },
   "file_extension": ".py",
   "mimetype": "text/x-python",
   "name": "python",
   "nbconvert_exporter": "python",
   "pygments_lexer": "ipython3",
   "version": "3.10.6"
  }
 },
 "nbformat": 4,
 "nbformat_minor": 5
}
